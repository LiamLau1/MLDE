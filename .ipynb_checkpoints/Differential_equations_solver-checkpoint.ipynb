{
 "cells": [
  {
   "cell_type": "code",
   "execution_count": 1,
   "metadata": {},
   "outputs": [
    {
     "name": "stderr",
     "output_type": "stream",
     "text": [
      "WARNING:root:Limited tf.compat.v2.summary API due to missing TensorBoard installation.\n",
      "WARNING:root:Limited tf.compat.v2.summary API due to missing TensorBoard installation.\n",
      "WARNING:root:Limited tf.compat.v2.summary API due to missing TensorBoard installation.\n",
      "WARNING:root:Limited tf.compat.v2.summary API due to missing TensorBoard installation.\n",
      "WARNING:root:Limited tf.compat.v2.summary API due to missing TensorBoard installation.\n",
      "WARNING:root:Limited tf.compat.v2.summary API due to missing TensorBoard installation.\n",
      "WARNING:root:Limited tf.summary API due to missing TensorBoard installation.\n",
      "WARNING:root:Limited tf.compat.v2.summary API due to missing TensorBoard installation.\n",
      "WARNING:root:Limited tf.compat.v2.summary API due to missing TensorBoard installation.\n",
      "WARNING:root:Limited tf.compat.v2.summary API due to missing TensorBoard installation.\n"
     ]
    },
    {
     "ename": "ModuleNotFoundError",
     "evalue": "No module named 'jax'",
     "output_type": "error",
     "traceback": [
      "\u001b[0;31m---------------------------------------------------------------------------\u001b[0m",
      "\u001b[0;31mModuleNotFoundError\u001b[0m                       Traceback (most recent call last)",
      "\u001b[0;32m<ipython-input-1-58bbc8c1b944>\u001b[0m in \u001b[0;36m<module>\u001b[0;34m\u001b[0m\n\u001b[1;32m      1\u001b[0m \u001b[0;32mimport\u001b[0m \u001b[0mtensorflow\u001b[0m \u001b[0;32mas\u001b[0m \u001b[0mtf\u001b[0m\u001b[0;34m\u001b[0m\u001b[0;34m\u001b[0m\u001b[0m\n\u001b[1;32m      2\u001b[0m \u001b[0;32mimport\u001b[0m \u001b[0mnumpy\u001b[0m \u001b[0;32mas\u001b[0m \u001b[0mnp\u001b[0m\u001b[0;34m\u001b[0m\u001b[0;34m\u001b[0m\u001b[0m\n\u001b[0;32m----> 3\u001b[0;31m \u001b[0;32mimport\u001b[0m \u001b[0mjax\u001b[0m\u001b[0;34m.\u001b[0m\u001b[0mnumpy\u001b[0m \u001b[0;32mas\u001b[0m \u001b[0mnp\u001b[0m\u001b[0;34m\u001b[0m\u001b[0;34m\u001b[0m\u001b[0m\n\u001b[0m\u001b[1;32m      4\u001b[0m \u001b[0;32mimport\u001b[0m \u001b[0mmatplotlib\u001b[0m\u001b[0;34m.\u001b[0m\u001b[0mpyplot\u001b[0m \u001b[0;32mas\u001b[0m \u001b[0mplt\u001b[0m\u001b[0;34m\u001b[0m\u001b[0;34m\u001b[0m\u001b[0m\n",
      "\u001b[0;31mModuleNotFoundError\u001b[0m: No module named 'jax'"
     ]
    }
   ],
   "source": [
    "import tensorflow as tf\n",
    "import numpy as np\n",
    "import jax.numpy as np\n",
    "import matplotlib.pyplot as plt"
   ]
  },
  {
   "cell_type": "markdown",
   "metadata": {},
   "source": [
    "The aim of this code is to understand how differential equations can be solved using artificial neural networks. To do this, we use the tensorflow package. The first equation that we want to solve is\n",
    "\n",
    "\\begin{equation}\n",
    "\\dot{y} + y = 0\n",
    "\\end{equation}\n",
    "\n",
    "with $y(0) = 1$ as initial conditions. The code will be fully commented so that we fully understand what is going on. We will obviously compare the approximate solution to the exact one\n",
    "\n",
    "\\begin{equation}\n",
    "y(x) = e^{-x}\n",
    "\\end{equation}"
   ]
  },
  {
   "cell_type": "markdown",
   "metadata": {},
   "source": [
    "# Without TensorFlow"
   ]
  },
  {
   "cell_type": "code",
   "execution_count": 111,
   "metadata": {},
   "outputs": [],
   "source": [
    "#Activation function\n",
    "def sigmoid(x):\n",
    "    return 1./(1. + np.exp(-x))"
   ]
  },
  {
   "cell_type": "markdown",
   "metadata": {},
   "source": [
    "The neural network will be composed of one input neuron $x$, one output neuron $y$ and one hiden layer with 10 neurons. Each connection between neurons has a weight $w_{ij}$ where $i$ is the layer (vertical) and $j$ is the neuron connection (horizontal). Each neuron has a bias $b_{ij}$. In total, we have 31 training parameters which compose the params variable."
   ]
  },
  {
   "cell_type": "code",
   "execution_count": 112,
   "metadata": {},
   "outputs": [],
   "source": [
    "#Defining the neural network by hand\n",
    "def NN(x, params):\n",
    "    w0 = params[:10]\n",
    "    b0 = params[10:20]\n",
    "    w1 = params[20:30]\n",
    "    b1 = params[30] #output neuron\n",
    "    a1 = sigmoid(w0*x + b0)\n",
    "    y = sigmoid(np.sum(w1*a1) + b1)\n",
    "    return y"
   ]
  },
  {
   "cell_type": "code",
   "execution_count": 115,
   "metadata": {},
   "outputs": [],
   "source": [
    "#Initializing the training parameters randomly\n",
    "from numpy import random\n",
    "random.seed(123)\n",
    "params = random.random(31)"
   ]
  },
  {
   "cell_type": "code",
   "execution_count": 124,
   "metadata": {},
   "outputs": [],
   "source": [
    "#Computing automatic gradient\n",
    "dydx = grad(NN, 0)"
   ]
  },
  {
   "cell_type": "code",
   "execution_count": 142,
   "metadata": {
    "scrolled": true
   },
   "outputs": [],
   "source": [
    "#NN inputs (x domain)\n",
    "inputs = np.linspace(0, 5, 100)"
   ]
  },
  {
   "cell_type": "code",
   "execution_count": 143,
   "metadata": {},
   "outputs": [],
   "source": [
    "#Vectorizing all functions\n",
    "from jax import vmap\n",
    "\n",
    "y_vec = vmap(NN, (0, None))\n",
    "dydx_vec = vmap(dydx, (0, None))"
   ]
  },
  {
   "cell_type": "code",
   "execution_count": 144,
   "metadata": {},
   "outputs": [],
   "source": [
    "#Defining the loss function\n",
    "from jax import grad\n",
    "\n",
    "def loss(inputs, params):\n",
    "    ode = dydx_vec(inputs, params) + y_vec(inputs, params)\n",
    "    ic = NN(0., params) - 1\n",
    "    return np.mean(ode**2) + ic**2"
   ]
  },
  {
   "cell_type": "code",
   "execution_count": 145,
   "metadata": {},
   "outputs": [],
   "source": [
    "#Computing the gradient of the loss function\n",
    "grad_loss = grad(loss, 1)"
   ]
  },
  {
   "cell_type": "code",
   "execution_count": 149,
   "metadata": {},
   "outputs": [
    {
     "name": "stdout",
     "output_type": "stream",
     "text": [
      "epoch:   0 loss: 0.001872\n",
      "epoch: 100 loss: 0.001865\n",
      "epoch: 200 loss: 0.001852\n",
      "epoch: 300 loss: 0.001837\n",
      "epoch: 400 loss: 0.001821\n",
      "epoch: 500 loss: 0.001806\n",
      "epoch: 600 loss: 0.001791\n",
      "epoch: 700 loss: 0.001776\n",
      "epoch: 800 loss: 0.001762\n",
      "epoch: 900 loss: 0.001748\n"
     ]
    }
   ],
   "source": [
    "#Initializing and running gradient descent method\n",
    "import numpy\n",
    "\n",
    "epochs = 1000\n",
    "momentum = 0.99\n",
    "velocity = 0\n",
    "learning_rate = .1\n",
    "loss_values = numpy.zeros(epochs)\n",
    "\n",
    "for epoch in range(epochs):\n",
    "    loss_value = loss(inputs, params)\n",
    "    loss_values[epoch] = loss_value\n",
    "    if epoch % 100 == 0:\n",
    "        print('epoch: %3d loss: %.6f' % (epoch, loss_value))\n",
    "    gradient = grad_loss(inputs, params + momentum*velocity)\n",
    "    velocity = momentum*velocity - learning_rate*gradient\n",
    "    params += velocity"
   ]
  },
  {
   "cell_type": "code",
   "execution_count": 152,
   "metadata": {},
   "outputs": [
    {
     "data": {
      "text/plain": [
       "[<matplotlib.lines.Line2D at 0x7f2fe443a208>]"
      ]
     },
     "execution_count": 152,
     "metadata": {},
     "output_type": "execute_result"
    },
    {
     "data": {
      "image/png": "[encoded data removed]",
      "text/plain": [
       "<Figure size 432x288 with 2 Axes>"
      ]
     },
     "metadata": {
      "needs_background": "light"
     },
     "output_type": "display_data"
    }
   ],
   "source": [
    "#Plotting\n",
    "fig, axs = plt.subplots(2)\n",
    "x = inputs\n",
    "y = y_vec(x, params)\n",
    "axs[0].plot(x, y, label = \"Approximated solution\")\n",
    "axs[0].plot(x, np.exp(-x), label = \"Exact solution\")\n",
    "axs[0].set_xlabel(\"x\")\n",
    "axs[0].set_ylabel(\"y\")\n",
    "axs[0].legend()\n",
    "axs[1].plot(np.linspace(0, 1000, 1000), loss_values)"
   ]
  },
  {
   "cell_type": "code",
   "execution_count": null,
   "metadata": {},
   "outputs": [],
   "source": []
  }
 ],
 "metadata": {
  "kernelspec": {
   "display_name": "Python 3",
   "language": "python",
   "name": "python3"
  },
  "language_info": {
   "codemirror_mode": {
    "name": "ipython",
    "version": 3
   },
   "file_extension": ".py",
   "mimetype": "text/x-python",
   "name": "python",
   "nbconvert_exporter": "python",
   "pygments_lexer": "ipython3",
   "version": "3.8.1"
  }
 },
 "nbformat": 4,
 "nbformat_minor": 2
}
